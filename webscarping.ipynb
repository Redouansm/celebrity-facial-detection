{
 "cells": [
  {
   "cell_type": "code",
   "execution_count": null,
   "id": "8420f6bd",
   "metadata": {},
   "outputs": [],
   "source": [
    "pip install icrawler"
   ]
  },
  {
   "cell_type": "code",
   "execution_count": null,
   "id": "e8daef9b",
   "metadata": {},
   "outputs": [
    {
     "name": "stderr",
     "output_type": "stream",
     "text": [
      "2025-09-29 23:44:05,045 - INFO - icrawler.crawler - start crawling...\n",
      "2025-09-29 23:44:05,046 - INFO - icrawler.crawler - starting 1 feeder threads...\n",
      "2025-09-29 23:44:05,048 - INFO - feeder - thread feeder-001 exit\n",
      "2025-09-29 23:44:05,050 - INFO - icrawler.crawler - starting 1 parser threads...\n",
      "2025-09-29 23:44:05,054 - INFO - icrawler.crawler - starting 1 downloader threads...\n"
     ]
    },
    {
     "name": "stdout",
     "output_type": "stream",
     "text": [
      "Downloading images for Brad Pitt...\n"
     ]
    },
    {
     "name": "stderr",
     "output_type": "stream",
     "text": [
      "2025-09-29 23:44:05,963 - INFO - parser - parsing result page https://www.google.com/search?q=Brad+Pitt&ijn=0&start=0&tbs=&tbm=isch\n",
      "2025-09-29 23:44:06,738 - INFO - downloader - image #1\thttps://upload.wikimedia.org/wikipedia/commons/4/4c/Brad_Pitt_2019_by_Glenn_Francis.jpg\n",
      "2025-09-29 23:44:07,001 - ERROR - downloader - Response status code 404, file https://upload.wikimedia.org/wikipedia/commons/thumb/9/90/Brad_Pitt-69858.jpg\n",
      "2025-09-29 23:44:07,312 - INFO - downloader - image #2\thttps://m.media-amazon.com/images/M/MV5BMjA1MjE2MTQ2MV5BMl5BanBnXkFtZTcwMjE5MDY0Nw@@._V1_.jpg\n",
      "2025-09-29 23:44:07,553 - INFO - downloader - image #3\thttps://hips.hearstapps.com/hmg-prod/images/actor-brad-pitt-attends-the-photocall-of-the-movie-wolfs-news-photo-1726680022.jpg\n",
      "2025-09-29 23:44:07,770 - INFO - downloader - image #4\thttps://cdn.britannica.com/61/137461-050-BB6C5D80/Brad-Pitt-2008.jpg\n",
      "2025-09-29 23:44:07,944 - INFO - downloader - image #5\thttps://fr.web.img2.acsta.net/pictures/20/02/10/10/37/1374948.jpg\n",
      "2025-09-29 23:44:08,447 - ERROR - downloader - Response status code 404, file https://static.wikia.nocookie.net/film/images/2/21/Bradpitt.jpg\n",
      "2025-09-29 23:44:08,955 - INFO - downloader - image #6\thttps://images.mubicdn.net/images/cast_member/2552/cache-207-1524922850/image-w856.jpg\n",
      "2025-09-29 23:44:09,065 - INFO - downloader - image #7\thttps://i.pinimg.com/474x/b6/56/21/b6562150f15e8c7a4cf208f8ed6c7947.jpg\n",
      "2025-09-29 23:44:09,349 - INFO - downloader - image #8\thttps://cdn-elle.ladmedia.fr/var/plain_site/storage/images/personnalites/brad-pitt/10085920-1-fre-FR/brad_pitt.jpg\n",
      "2025-09-29 23:44:09,935 - INFO - downloader - image #9\thttps://variety.com/wp-content/uploads/2025/05/GettyImages-2172110429.jpg\n",
      "2025-09-29 23:44:10,617 - INFO - downloader - image #10\thttps://cdn.britannica.com/57/262757-050-C31FBA0D/actor-brad-pitt-attends-the-81st-venice-international-film-festival-palazzo-del-cinema-september-1-2024-venice-italy.jpg\n",
      "2025-09-29 23:44:10,920 - INFO - downloader - image #11\thttps://static.foxnews.com/foxnews.com/content/uploads/2024/08/GettyImages-1200624305-scaled.jpg\n",
      "2025-09-29 23:44:11,431 - INFO - downloader - image #12\thttps://goldenglobes.com/wp-content/uploads/2023/10/brad-pitt_03_paramount-pictures.jpg\n",
      "2025-09-29 23:44:11,828 - INFO - downloader - image #13\thttps://www.kaufmann.dk/cdn-cgi/image/width=1080,height=1080,format=auto/media/8d/06/57/1747295072/2024.10.03_KAUFMANN_Journal_Brad-pitt_01.jpg\n",
      "2025-09-29 23:44:12,162 - ERROR - downloader - Response status code 400, file https://media.gettyimages.com/id/141547254/zh/%E7%85%A7%E7%89%87/inside-the-actors-studio-brad-pitt-pictured-brad-pitt-photo-by-anthony-behar-bravo-nbcu-photo-bank.jpg\n",
      "2025-09-29 23:44:12,802 - INFO - downloader - image #14\thttps://upload.wikimedia.org/wikipedia/commons/7/75/Brad_Pitt-69924.jpg\n",
      "2025-09-29 23:44:13,313 - INFO - downloader - image #15\thttps://ntvb.tmsimg.com/assets/assets/1366_v9_bc.jpg\n",
      "2025-09-29 23:44:14,027 - INFO - downloader - image #16\thttps://media.cnn.com/api/v1/images/stellar/prod/220922043726-03-brad-pitt-skincare.jpg\n",
      "2025-09-29 23:44:14,382 - INFO - downloader - image #17\thttps://www.looktothestars.org/photo/1224-brad-pitt/story_half_width.jpg\n",
      "2025-09-29 23:44:14,611 - INFO - downloader - image #18\thttps://people.com/thmb/6mFSyNpNf5eDviUXsfaPngxwUKc=/1500x0/filters:no_upscale():max_bytes(150000):strip_icc():focal(759x419:761x421)/brad-pitt-f1-premiere-new-york-062325-2-c8a12d69c7e34f8b82a9411a01526545.jpg\n",
      "2025-09-29 23:44:14,990 - INFO - downloader - image #19\thttps://ichef.bbci.co.uk/images/ic/480xn/p0cr3znc.jpg\n",
      "2025-09-29 23:44:15,240 - INFO - downloader - image #20\thttps://resize.elle.fr/article/var/plain_site/storage/images/people/la-vie-des-people/news/brad-pitt-l-acteur-va-t-il-quitter-hollywood-pour-s-installer-en-france-4087606/98070727-1-fre-FR/Brad-Pitt-l-acteur-va-t-il-quitter-Hollywood-pour-s-installer-en-France.jpg\n",
      "2025-09-29 23:44:15,341 - INFO - downloader - image #21\thttps://people.com/thmb/xjPWMonX6EkrZk2v-CcMSfJYZt8=/1500x0/filters:no_upscale():max_bytes(150000):strip_icc():focal(999x0:1001x2)/Brad-Pitt-062335-d1e7b6426fea4e0e95f151a4a838668f.jpg\n",
      "2025-09-29 23:44:15,551 - ERROR - downloader - Response status code 404, file https://upload.wikimedia.org/wikipedia/commons/thumb/d/df/Brad_Pitt_Cannes_2012.jpg\n",
      "2025-09-29 23:44:15,904 - INFO - downloader - image #22\thttps://media.cnn.com/api/v1/images/stellar/prod/c-gettyimages-2169156430.jpg\n",
      "2025-09-29 23:44:16,498 - INFO - downloader - image #23\thttps://www.ramp.space/assets/uploads/crops/standard.a398dbec.gettyimages_1165180318_594x594_2048px.jpg\n",
      "2025-09-29 23:44:17,139 - INFO - downloader - image #24\thttps://58v76y8z87lo.hellomagazine.com/horizon/square/2ee0b0ba5062-brad-pitt-green-jacket.jpg\n",
      "2025-09-29 23:44:17,659 - INFO - downloader - image #25\thttps://variety.com/wp-content/uploads/2023/10/GettyImages-1456033655.jpg\n",
      "2025-09-29 23:44:18,155 - INFO - downloader - image #26\thttps://s.abcnews.com/images/GMA/BradPitt-gty-sn-250612_1749763171607_hpMain_16x9_992.jpg\n",
      "2025-09-29 23:44:18,459 - INFO - downloader - image #27\thttps://ew.com/thmb/P4FwTJOMcXA2TxZ69SQDxibzEEw=/1500x0/filters:no_upscale():max_bytes(150000):strip_icc()/gettyimages-1165177751-2000-d105ca4fa12c49efae54bba6cac13822.jpg\n",
      "2025-09-29 23:44:19,286 - INFO - downloader - image #28\thttps://www.hollywoodreporter.com/wp-content/uploads/2025/06/Brad-Pitt-getty-H-2025.png\n",
      "2025-09-29 23:44:19,549 - ERROR - downloader - Response status code 400, file https://media.gettyimages.com/id/1205154407/photo/hollywood-california-brad-pitt-winner-of-best-actor-in-a-supporting-role-for-once-upon-a-time.jpg\n",
      "2025-09-29 23:44:19,680 - INFO - downloader - image #29\thttps://resize.elle.fr/article/var/plain_site/storage/images/people/la-vie-des-people/news/brad-pitt-absent-aux-baftas-il-a-prefere-se-reconcilier-avec-son-fils-maddox-3844165/92560909-1-fre-FR/Brad-Pitt-absent-aux-BAFTAs-il-a-prefere-se-reconcilier-avec-son-fils-Maddox.jpg\n",
      "2025-09-29 23:44:21,033 - INFO - downloader - image #30\thttps://i.abcnewsfe.com/a/c8d698a0-36d2-47a2-9151-a60d57ddd9d7/brad-pitt-3-rt-gmh-250617_1750170618897_hpMain.jpg\n",
      "2025-09-29 23:44:21,403 - INFO - downloader - image #31\thttps://hips.hearstapps.com/hmg-prod/images/15-1617292765.jpg\n",
      "2025-09-29 23:44:21,698 - INFO - downloader - image #32\thttps://www.planetegrandesecoles.com/wp-content/uploads/2023/08/brad.jpg\n",
      "2025-09-29 23:44:21,918 - INFO - downloader - image #33\thttps://i.pinimg.com/736x/85/f9/8a/85f98ae3da5130dfeae4203c3a910b4c.jpg\n",
      "2025-09-29 23:44:22,212 - INFO - downloader - image #34\thttps://turkeyanaclinic.com/wp-content/uploads/2024/09/Brad-Pitt-2.jpg\n",
      "2025-09-29 23:44:22,969 - INFO - downloader - image #35\thttps://www.redcarpet-fashionawards.com/wp-content/uploads/2025/06/Brad-Pitt-and-Ines-de-Ramon-Step-Out-For-F1-The-Movie-London-Premiere.jpg\n",
      "2025-09-29 23:44:23,428 - INFO - downloader - image #36\thttps://media.gq-magazine.co.uk/photos/5f44fc7be4b4aa9eec6fce0d/16:9/w_2560%2Cc_limit/20200825-dick.jpg\n",
      "2025-09-29 23:44:24,068 - INFO - downloader - image #37\thttps://www.shefinds.com/cdn-cgi/image/quality=80,format=auto,onerror=redirect,metadata=none/files/2025/08/Brad-pitt-looking-worried.jpg\n",
      "2025-09-29 23:44:24,267 - INFO - downloader - image #38\thttps://m.media-amazon.com/images/I/51Ib1C7444L._UF1000,1000_QL80_.jpg\n",
      "2025-09-29 23:44:25,117 - INFO - downloader - image #39\thttps://www.vanityclinic.com/app/uploads/2023/02/2-ICERIK-brad-pitt-5-563x1024.jpg\n",
      "2025-09-29 23:44:25,870 - INFO - downloader - image #40\thttps://www.screentune.com/wp-content/uploads/2019/12/brad-pitt-mas-atractivo-03-a.jpg\n",
      "2025-09-29 23:44:26,194 - INFO - downloader - image #41\thttps://hips.hearstapps.com/hmg-prod/images/actor-brad-pitt-attends-babel-press-conference-during-the-news-photo-1725273265.jpg\n",
      "2025-09-29 23:44:26,689 - INFO - downloader - image #42\thttps://goldenglobes.com/wp-content/uploads/2023/10/brad-pitt-c-hfpa-1992-bw-c-scaled.jpg\n",
      "2025-09-29 23:44:27,426 - INFO - downloader - image #43\thttps://image-cdn.netflixjunkie.com/wp-content/uploads/imago0259050715h-1.jpg\n",
      "2025-09-29 23:44:27,549 - INFO - downloader - image #44\thttps://i.pinimg.com/736x/42/52/d8/4252d83e5c16b78cb76085d1ceacd12f.jpg\n",
      "2025-09-29 23:44:27,755 - INFO - downloader - image #45\thttps://people.com/thmb/meGaY5a4vmcGM7sJO9xXVeTCsAQ=/1500x0/filters:no_upscale():max_bytes(150000):strip_icc():focal(999x0:1001x2)/tom-cruise-brad-pitt-F1-premiere-062325-f3b5c9a41fb64db19f35ef5338cfd9ce.jpg\n",
      "2025-09-29 23:44:28,162 - INFO - downloader - image #46\thttps://static.independent.co.uk/s3fs-public/thumbnails/image/2020/01/08/15/gettyimages-1197770895.jpg\n",
      "2025-09-29 23:44:28,740 - INFO - downloader - image #47\thttps://www.usmagazine.com/wp-content/uploads/488778057_brad-pitt-angelina-jolie-zoom-d3b5db12-118d-42a0-aa71-990b478942fb.jpg\n",
      "2025-09-29 23:44:28,955 - ERROR - downloader - Response status code 403, file https://www.ctvnews.ca/resizer/v2/RV5NFQQMENF2RMZ7CNNOKUH53I.jpg\n",
      "2025-09-29 23:44:29,714 - INFO - downloader - image #48\thttps://hips.hearstapps.com/hmg-prod/images/gettyimages-2221723777-685a621d94ee9.jpg\n",
      "2025-09-29 23:44:31,128 - INFO - downloader - image #49\thttps://cdn.i-scmp.com/sites/default/files/styles/768x768/public/d8/images/canvas/2023/12/11/0052e1be-d287-424f-ac83-caf64b79bccf_975c0244.jpg\n",
      "2025-09-29 23:44:31,734 - INFO - downloader - image #50\thttps://www.intouchweekly.com/wp-content/uploads/2022/07/brad-pitt-transfo.jpg\n",
      "2025-09-29 23:44:32,183 - INFO - downloader - downloaded images reach max num, thread downloader-001 is ready to exit\n",
      "2025-09-29 23:44:32,184 - INFO - downloader - thread downloader-001 exit\n",
      "2025-09-29 23:44:33,077 - INFO - icrawler.crawler - Crawling task done!\n",
      "2025-09-29 23:44:33,079 - INFO - icrawler.crawler - start crawling...\n",
      "2025-09-29 23:44:33,081 - INFO - icrawler.crawler - starting 1 feeder threads...\n",
      "2025-09-29 23:44:33,083 - INFO - feeder - thread feeder-001 exit\n",
      "2025-09-29 23:44:33,085 - INFO - icrawler.crawler - starting 1 parser threads...\n",
      "2025-09-29 23:44:33,090 - INFO - icrawler.crawler - starting 1 downloader threads...\n"
     ]
    },
    {
     "name": "stdout",
     "output_type": "stream",
     "text": [
      "Done downloading Brad Pitt.\n",
      "\n",
      "Downloading images for Tom Cruise...\n"
     ]
    },
    {
     "name": "stderr",
     "output_type": "stream",
     "text": [
      "2025-09-29 23:44:33,746 - INFO - parser - downloaded image reached max num, thread parser-001 is ready to exit\n",
      "2025-09-29 23:44:33,747 - INFO - parser - thread parser-001 exit\n",
      "2025-09-29 23:44:33,904 - INFO - parser - parsing result page https://www.google.com/search?q=Tom+Cruise&ijn=0&start=0&tbs=&tbm=isch\n",
      "2025-09-29 23:44:34,830 - INFO - downloader - image #1\thttps://upload.wikimedia.org/wikipedia/commons/b/b5/Tom_Cruise-2428.jpg\n",
      "2025-09-29 23:44:35,473 - INFO - downloader - image #2\thttps://m.media-amazon.com/images/M/MV5BMmU1YWU1NmMtMjAyMi00MjFiLWFmZmUtOTc1ZjI5ODkxYmQyXkEyXkFqcGc@._V1_FMjpg\n",
      "2025-09-29 23:44:35,897 - INFO - downloader - image #3\thttps://images.mubicdn.net/images/cast_member/2184/cache-2992-1547409411/image-w856.jpg\n",
      "2025-09-29 23:44:36,149 - INFO - downloader - image #4\thttps://goldenglobes.com/wp-content/uploads/2023/10/17-tomcruiseag.jpg\n",
      "2025-09-29 23:44:36,675 - INFO - downloader - image #5\thttps://hips.hearstapps.com/hmg-prod/images/tom-cruise-attends-the-australian-premiere-of-mission-news-photo-1723493931.jpg\n",
      "2025-09-29 23:44:36,729 - INFO - downloader - image #6\thttps://m.media-amazon.com/images/M/MV5BOGZlMWY3ZGUtMWQ4Yy00OWNkLWIxNDYtNzcwYTVjMTc3ZTA4XkEyXkFqcGdeQXJoYW5uYWg@._V1_.jpg\n",
      "2025-09-29 23:44:37,024 - INFO - downloader - image #7\thttps://upload.wikimedia.org/wikipedia/commons/1/12/Tom_Cruise_%2848364137131%29_%28cropped%29.jpg\n",
      "2025-09-29 23:44:37,284 - INFO - downloader - image #8\thttps://cdn.unitycms.io/images/4_cEBegzqv5A-mJ35uSPGS.jpg\n",
      "2025-09-29 23:44:38,683 - INFO - downloader - image #9\thttps://static.wikia.nocookie.net/topgun/images/7/73/Tom_Cruise.jpg\n",
      "2025-09-29 23:44:38,812 - INFO - downloader - image #10\thttps://resize.elle.fr/article/var/plain_site/storage/images/loisirs/cinema/news/solaire-diabolique-minimaliste-pourquoi-tom-cruise-est-un-acteur-sous-estime/96721098-1-fre-FR/Solaire-diabolique-minimaliste-Pourquoi-Tom-Cruise-est-un-acteur-sous-estime.jpg\n",
      "2025-09-29 23:44:39,145 - ERROR - downloader - Response status code 403, file https://wl-brightside.cf.tsp.li/resize/728x/jpg\n",
      "2025-09-29 23:44:39,365 - INFO - downloader - image #11\thttps://people.com/thmb/LS01djkyZkwf66pguDY58vBxD8g=/1500x0/filters:no_upscale():max_bytes(150000):strip_icc():focal(642x39:644x41)/tom-cruise-72f20971ea4144ec80f084a8c9ad6795.jpg\n",
      "2025-09-29 23:44:39,945 - INFO - downloader - image #12\thttps://ntvb.tmsimg.com/assets/assets/378_v9_be.jpg\n",
      "2025-09-29 23:44:40,209 - INFO - downloader - image #13\thttps://cdn.britannica.com/68/178268-050-5B4E7FB6/Tom-Cruise-2013.jpg\n",
      "2025-09-29 23:44:40,572 - INFO - downloader - image #14\thttps://static01.nyt.com/images/2025/06/19/multimedia/17cruise-award/lhbp-articleLarge.jpg\n",
      "2025-09-29 23:44:40,711 - INFO - downloader - image #15\thttps://static.wikia.nocookie.net/missionimpossible/images/6/63/Tom-cruise-2023.jpg\n",
      "2025-09-29 23:44:41,083 - INFO - downloader - image #16\thttps://www.planetegrandesecoles.com/wp-content/uploads/2022/10/Tom-cruise.jpg\n",
      "2025-09-29 23:44:41,606 - INFO - downloader - image #17\thttps://adalyadentalclinic.com/wp-content/uploads/2025/07/tom-cruise-teeth.jpg\n",
      "2025-09-29 23:44:42,048 - INFO - downloader - image #18\thttps://ca-times.brightspotcdn.com/dims4/default/55c6aba/2147483647/strip/true/crop/4000x6000+0+0/resize/1200x1800!/quality/75/?url=https%3A%2F%2Fcalifornia-times-brightspot.s3.amazonaws.com%2F6c%2F77%2F4ffc98cc4ac7984c43d03f8160e4%2Fet-top-gun-maverick-02.jpg\n",
      "2025-09-29 23:44:42,140 - INFO - downloader - image #19\thttps://resize.elle.fr/article/var/plain_site/storage/images/people/la-vie-des-people/news/tom-cruise-toutes-les-femmes-de-sa-vie/104799896-1-fre-FR/Tom-Cruise-toutes-les-femmes-de-sa-vie.jpg\n",
      "2025-09-29 23:44:42,592 - ERROR - downloader - Response status code 400, file https://sanantonio.culturemap.com/media-library/tom-cruise-in-conversation-at-the-bfi.jpg\n",
      "2025-09-29 23:44:43,008 - INFO - downloader - image #20\thttps://hips.hearstapps.com/hmg-prod/images/tom-cruise-ana-de-armas-gettyimages-2202921787-67d86d96aa39f.jpg\n",
      "2025-09-29 23:44:43,545 - INFO - downloader - image #21\thttps://variety.com/wp-content/uploads/2023/07/GettyImages-1511406162.jpg\n",
      "2025-09-29 23:44:43,961 - INFO - downloader - image #22\thttps://www.ecranlarge.com/content/uploads/2023/07/tom-cruise-pourquoi-cest-le-plus-fascinant-des-egomaniaques-a-hollywood.jpg\n",
      "2025-09-29 23:44:44,921 - INFO - downloader - image #23\thttps://aarp.widen.net/content/ppbfxkbmhe/jpeg/GettyImages-2215138068.jpg\n",
      "2025-09-29 23:44:45,292 - INFO - downloader - image #24\thttps://www.hollywoodreporter.com/wp-content/uploads/2022/05/GettyImages-1397927783-H-2022.jpg\n",
      "2025-09-29 23:44:45,897 - INFO - downloader - image #25\thttps://wwd.com/wp-content/uploads/2025/06/Tom-Cruise-and-Brad-Pitt-1.jpg\n",
      "2025-09-29 23:44:46,268 - INFO - downloader - image #26\thttps://ichef.bbci.co.uk/news/480/cpsprodpb/c0ef/live/586d6280-5353-11f0-8b68-bb939ed7a4d9.jpg\n",
      "2025-09-29 23:44:46,903 - INFO - downloader - image #27\thttps://people.com/thmb/eBgj60viwFi0KnxWBnewuWbQ8Tk=/1500x0/filters:no_upscale():max_bytes(150000):strip_icc():focal(739x253:741x255)/tom-cruise-052025-8013a80e9063426cb139bd26c4dc1243.jpg\n",
      "2025-09-29 23:44:47,158 - INFO - downloader - image #28\thttps://fr.web.img6.acsta.net/pictures/18/07/13/09/57/3777492.jpg\n",
      "2025-09-29 23:44:47,554 - INFO - downloader - image #29\thttps://mosdenthospital.com/wp-content/uploads/2025/05/tom_cruise_disleri_blog.jpg\n",
      "2025-09-29 23:44:48,508 - INFO - downloader - image #30\thttps://media.gqmagazine.fr/photos/66a8dd2162ba99008509168a/16:9/w_2560%2Cc_limit/Tom-Cruise-Rolexx.jpg\n",
      "2025-09-29 23:44:49,080 - INFO - downloader - image #31\thttps://www.ecranlarge.com/content/uploads/2025/09/mission-impossible-ce-grand-realisateur-a-ete-tres-decu-que-tom-cruise-ne-lengage-pas.png\n",
      "2025-09-29 23:44:49,570 - INFO - downloader - image #32\thttps://ekizclinic.com/wp-content/uploads/2024/10/Tom-Cruise-Dis.png\n",
      "2025-09-29 23:44:50,047 - INFO - downloader - image #33\thttps://img-cdn.inc.com/image/upload/f_webp,q_auto,c_fit/vip/2025/05/tom-cruise-anti-aging-inc-GettyImages-2215467216.jpg\n",
      "2025-09-29 23:44:51,623 - INFO - downloader - image #34\thttps://i.abcnewsfe.com/a/c7fe44c6-c57c-4100-aa61-5d7c244d2eec/tom-cruise-01-gty-jef-250519_1747675382688_hpMain.jpg\n",
      "2025-09-29 23:44:52,561 - INFO - downloader - image #35\thttps://media.vanityfair.fr/photos/66bdd4e22f661def62332245/16:9/w_2560%2Cc_limit/Tom-Cruise-2165678458.jpg\n",
      "2025-09-29 23:44:54,119 - INFO - downloader - image #36\thttps://dyslexiahelp.umich.edu/wp-content/uploads/2025/06/Tom-Cruise-900x600-1.jpg\n",
      "2025-09-29 23:44:54,718 - INFO - downloader - image #37\thttps://www.nme.com/wp-content/uploads/2025/06/Brad-Pitt-Tom-Cruise-696x442.jpg\n",
      "2025-09-29 23:44:57,720 - INFO - downloader - image #38\thttps://pyxis.nymag.com/v1/imgs/b39/e77/b9fa5f81b1c04bbf439ef40515b1b6e464-tom-cruise.1x.rsquare.w1400.jpg\n",
      "2025-09-29 23:44:57,937 - INFO - downloader - image #39\thttps://d3i6fh83elv35t.cloudfront.net/static/2025/06/2025-06-09T080235Z_239698083_MT1AFL294337449_RTRMADP_3_ENT-1-1024x709.jpg\n",
      "2025-09-29 23:44:58,623 - INFO - downloader - image #40\thttps://resize.programme-television.org/original/var/premiere/storage/images/news/cinema/ceremonies-festivals/a-62-ans-tom-cruise-decroche-enfin-son-premier-oscar-apres-40-ans-d-attente-4742377/103213772-1-fre-FR/A-62-ans-Tom-Cruise-decroche-enfin-son-premier-Oscar-apres-40-ans-d-attente.png\n",
      "2025-09-29 23:44:59,327 - INFO - downloader - image #41\thttps://58v76y8z87lo.hellomagazine.com/horizon/43/a16231ecf6be-tomcruise-teeth.jpg\n",
      "2025-09-29 23:44:59,700 - INFO - downloader - image #42\thttps://static01.nyt.com/images/2025/05/24/multimedia/23cul-cruise-cinema-01-lqgb/23cul-cruise-cinema-01-lqgb-articleLarge.jpg\n",
      "2025-09-29 23:45:00,373 - INFO - downloader - image #43\thttps://visitandmedcare.com/wp-content/uploads/2025/06/Tom-Cruises-Smile-Transformation-From-Crooked-to-Charismatic-min-1024x683.jpg\n",
      "2025-09-29 23:45:00,578 - INFO - downloader - image #44\thttps://static1.purepeople.com/uploads/e6/a5/45/1a/510d8efc68d7e78e-580x0-2.jpg\n",
      "2025-09-29 23:45:00,835 - INFO - downloader - image #45\thttps://people.com/thmb/xbkxg2iFkCP5hyp6NaghY9ivS3g=/1500x0/filters:no_upscale():max_bytes(150000):strip_icc():focal(688x309:690x311)/tom-cruise-mission-impossible-final-reckoning-london-052225-427ff8c96cf044b0b87cd31b589ce6c5.jpg\n",
      "2025-09-29 23:45:01,638 - INFO - downloader - image #46\thttps://images.rtl.fr/~c/2000v2000/rtl/www/1122559-tom-cruise.jpg\n",
      "2025-09-29 23:45:02,100 - INFO - downloader - image #47\thttps://www.hollywoodreporter.com/wp-content/uploads/2023/03/Ezra-Miller-in-the-upcoming-Flash-movie-split-with-Tom-Cruise-Split-Getty-H-2023.jpg\n",
      "2025-09-29 23:45:02,383 - INFO - downloader - image #48\thttps://www.instyle.com/thmb/B0FuQreItpL0ce7Tk5hOA__tHfo=/1500x0/filters:no_upscale():max_bytes(150000):strip_icc()/gettyimages-53158214-2000-408be54d2b6e4b739561a328fdc576fd.jpg\n",
      "2025-09-29 23:45:03,049 - INFO - downloader - image #49\thttps://deadline.com/wp-content/uploads/2025/04/GettyImages-2208350831.jpg\n",
      "2025-09-29 23:45:03,520 - INFO - downloader - image #50\thttps://hips.hearstapps.com/hmg-prod/images/tom-ana-681f676760d87.jpg\n",
      "2025-09-29 23:45:03,818 - INFO - downloader - downloaded images reach max num, thread downloader-001 is ready to exit\n",
      "2025-09-29 23:45:03,819 - INFO - downloader - thread downloader-001 exit\n",
      "2025-09-29 23:45:04,120 - INFO - icrawler.crawler - Crawling task done!\n"
     ]
    },
    {
     "name": "stdout",
     "output_type": "stream",
     "text": [
      "Done downloading Tom Cruise.\n",
      "\n"
     ]
    },
    {
     "name": "stderr",
     "output_type": "stream",
     "text": [
      "2025-09-29 23:45:04,523 - INFO - parser - downloaded image reached max num, thread parser-001 is ready to exit\n",
      "2025-09-29 23:45:04,524 - INFO - parser - thread parser-001 exit\n"
     ]
    }
   ],
   "source": [
    "from icrawler.builtin import GoogleImageCrawler\n",
    "\n",
    "# Liste des célébrités\n",
    "celebrities = [\"Leonardo DiCaprio\", \"Angelina Jolie\", \"Lionel Messi\",\"Brad Pitt\",\"Tom Cruise\"]\n",
    "\n",
    "for celeb in celebrities:\n",
    "    print(f\"Downloading images for {celeb}...\")\n",
    "    \n",
    "    crawler = GoogleImageCrawler(storage={'root_dir': f'dataset_stars/{celeb}'})\n",
    "    \n",
    "    # crawl() accepte 'keyword' au singulier maintenant\n",
    "    crawler.crawl(\n",
    "        keyword=celeb,   # attention : 'keyword' et non 'keywords'\n",
    "        max_num=50,      # nombre d'images par célébrité\n",
    "        min_size=(200, 200)  # taille minimale\n",
    "    )\n",
    "    \n",
    "    print(f\"Done downloading {celeb}.\\n\")\n"
   ]
  },
  {
   "cell_type": "code",
   "execution_count": null,
   "id": "93c7ae05",
   "metadata": {},
   "outputs": [],
   "source": []
  }
 ],
 "metadata": {
  "kernelspec": {
   "display_name": "base",
   "language": "python",
   "name": "python3"
  },
  "language_info": {
   "codemirror_mode": {
    "name": "ipython",
    "version": 3
   },
   "file_extension": ".py",
   "mimetype": "text/x-python",
   "name": "python",
   "nbconvert_exporter": "python",
   "pygments_lexer": "ipython3",
   "version": "3.12.7"
  }
 },
 "nbformat": 4,
 "nbformat_minor": 5
}
