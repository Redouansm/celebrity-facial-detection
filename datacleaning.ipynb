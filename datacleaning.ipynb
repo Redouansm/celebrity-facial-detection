{
 "cells": [
  {
   "cell_type": "code",
   "execution_count": 1,
   "id": "fede53ef",
   "metadata": {},
   "outputs": [],
   "source": [
    "import numpy as np\n",
    "import cv2\n",
    "import matplotlib\n",
    "from matplotlib import pyplot as plt\n",
    "%matplotlib inline"
   ]
  },
  {
   "cell_type": "code",
   "execution_count": 2,
   "id": "8ee0ba35",
   "metadata": {},
   "outputs": [],
   "source": [
    "path_to_data = \"./dataset_stars/\"\n",
    "path_to_cr_data = \"./dataset_stars/cropped/\""
   ]
  },
  {
   "cell_type": "code",
   "execution_count": 3,
   "id": "49cd157e",
   "metadata": {},
   "outputs": [],
   "source": [
    "import os\n",
    "img_dirs = []\n",
    "for entry in os.scandir(path_to_data):\n",
    "    if entry.is_dir():\n",
    "        img_dirs.append(entry.path)"
   ]
  },
  {
   "cell_type": "code",
   "execution_count": 4,
   "id": "4dd17667",
   "metadata": {},
   "outputs": [
    {
     "data": {
      "text/plain": [
       "['./dataset_stars/Angelina Jolie',\n",
       " './dataset_stars/Brad Pitt',\n",
       " './dataset_stars/cropped',\n",
       " './dataset_stars/Leonardo DiCaprio',\n",
       " './dataset_stars/Lionel Messi',\n",
       " './dataset_stars/Tom Cruise']"
      ]
     },
     "execution_count": 4,
     "metadata": {},
     "output_type": "execute_result"
    }
   ],
   "source": [
    "img_dirs\n"
   ]
  },
  {
   "cell_type": "code",
   "execution_count": 5,
   "id": "ac693a1f",
   "metadata": {},
   "outputs": [],
   "source": [
    "import shutil\n",
    "if os.path.exists(path_to_cr_data):\n",
    "     shutil.rmtree(path_to_cr_data)\n",
    "os.mkdir(path_to_cr_data)"
   ]
  },
  {
   "cell_type": "code",
   "execution_count": 6,
   "id": "2792a774",
   "metadata": {},
   "outputs": [],
   "source": [
    "cascades_path = cv2.data.haarcascades\n",
    "\n",
    "face_cascade = cv2.CascadeClassifier(os.path.join(cascades_path, 'haarcascade_frontalface_default.xml'))\n",
    "eye_cascade = cv2.CascadeClassifier(os.path.join(cascades_path, 'haarcascade_eye.xml'))"
   ]
  },
  {
   "cell_type": "code",
   "execution_count": 7,
   "id": "77ceedde",
   "metadata": {},
   "outputs": [],
   "source": [
    "import cv2\n",
    "\n",
    "def get_cropped_image_if_2_eyes(image_path):\n",
    "    img = cv2.imread(image_path)\n",
    "    \n",
    "    if img is None:\n",
    "        print(f\"Warning: impossible de lire l'image {image_path}\")\n",
    "        return None\n",
    "    \n",
    "    gray = cv2.cvtColor(img, cv2.COLOR_BGR2GRAY)\n",
    "    faces = face_cascade.detectMultiScale(gray, 1.3, 5)\n",
    "    \n",
    "    for (x, y, w, h) in faces:\n",
    "        roi_gray = gray[y:y+h, x:x+w]\n",
    "        roi_color = img[y:y+h, x:x+w]\n",
    "        eyes = eye_cascade.detectMultiScale(roi_gray)\n",
    "        if len(eyes) >= 2:\n",
    "            return roi_color\n",
    "    return None\n"
   ]
  },
  {
   "cell_type": "code",
   "execution_count": 8,
   "id": "fe1378da",
   "metadata": {},
   "outputs": [
    {
     "name": "stdout",
     "output_type": "stream",
     "text": [
      "Angelina Jolie\n",
      "Generating cropped images in folder: ./dataset_stars/cropped/Angelina Jolie\n",
      "Brad Pitt\n",
      "Generating cropped images in folder: ./dataset_stars/cropped/Brad Pitt\n",
      "cropped\n",
      "Leonardo DiCaprio\n",
      "Generating cropped images in folder: ./dataset_stars/cropped/Leonardo DiCaprio\n",
      "Lionel Messi\n",
      "Generating cropped images in folder: ./dataset_stars/cropped/Lionel Messi\n",
      "Tom Cruise\n",
      "Generating cropped images in folder: ./dataset_stars/cropped/Tom Cruise\n"
     ]
    }
   ],
   "source": [
    "import os\n",
    "import cv2\n",
    "\n",
    "cropped_image_dirs = []\n",
    "celebrity_file_names_dict = {}\n",
    "\n",
    "for img_dir in img_dirs:\n",
    "    count = 1\n",
    "    celebrity_name = os.path.basename(img_dir)\n",
    "    print(celebrity_name)\n",
    "    \n",
    "    celebrity_file_names_dict[celebrity_name] = []\n",
    "    \n",
    "    for entry in os.scandir(img_dir):\n",
    "        if entry.is_file() and entry.name.lower().endswith(('.png', '.jpg', '.jpeg')):\n",
    "            roi_color = get_cropped_image_if_2_eyes(entry.path)\n",
    "            if roi_color is not None:\n",
    "                cropped_folder = os.path.join(path_to_cr_data, celebrity_name)\n",
    "                if not os.path.exists(cropped_folder):\n",
    "                    os.makedirs(cropped_folder)\n",
    "                    cropped_image_dirs.append(cropped_folder)\n",
    "                    print(\"Generating cropped images in folder:\", cropped_folder)\n",
    "                \n",
    "                cropped_file_name = f\"{celebrity_name}{count}.png\"\n",
    "                cropped_file_path = os.path.join(cropped_folder, cropped_file_name)\n",
    "                \n",
    "                cv2.imwrite(cropped_file_path, roi_color)\n",
    "                celebrity_file_names_dict[celebrity_name].append(cropped_file_path)\n",
    "                count += 1\n"
   ]
  },
  {
   "cell_type": "code",
   "execution_count": 9,
   "id": "27763d29",
   "metadata": {},
   "outputs": [
    {
     "data": {
      "text/plain": [
       "['./dataset_stars/Angelina Jolie',\n",
       " './dataset_stars/Brad Pitt',\n",
       " './dataset_stars/cropped',\n",
       " './dataset_stars/Leonardo DiCaprio',\n",
       " './dataset_stars/Lionel Messi',\n",
       " './dataset_stars/Tom Cruise']"
      ]
     },
     "execution_count": 9,
     "metadata": {},
     "output_type": "execute_result"
    }
   ],
   "source": [
    "img_dirs"
   ]
  },
  {
   "cell_type": "code",
   "execution_count": 10,
   "id": "e479e470",
   "metadata": {},
   "outputs": [],
   "source": [
    "import shutil\n",
    "if os.path.exists(path_to_cr_data):\n",
    "     shutil.rmtree(path_to_cr_data)\n",
    "os.mkdir(path_to_cr_data)"
   ]
  },
  {
   "cell_type": "code",
   "execution_count": 11,
   "id": "6542e4a7",
   "metadata": {},
   "outputs": [
    {
     "name": "stdout",
     "output_type": "stream",
     "text": [
      "Generating cropped images in folder:  ./dataset_stars/cropped/Angelina Jolie\n",
      "Generating cropped images in folder:  ./dataset_stars/cropped/Brad Pitt\n",
      "Warning: impossible de lire l'image ./dataset_stars/cropped\\Angelina Jolie\n",
      "Warning: impossible de lire l'image ./dataset_stars/cropped\\Brad Pitt\n",
      "Generating cropped images in folder:  ./dataset_stars/cropped/Leonardo DiCaprio\n",
      "Generating cropped images in folder:  ./dataset_stars/cropped/Lionel Messi\n",
      "Generating cropped images in folder:  ./dataset_stars/cropped/Tom Cruise\n"
     ]
    }
   ],
   "source": [
    "cropped_image_dirs = []\n",
    "celebrity_file_names_dict = {}\n",
    "for img_dir in img_dirs:\n",
    "    count = 1\n",
    "    celebrity_name = img_dir.split('/')[-1]\n",
    "    celebrity_file_names_dict[celebrity_name] = []\n",
    "    for entry in os.scandir(img_dir):\n",
    "        roi_color = get_cropped_image_if_2_eyes(entry.path)\n",
    "        if roi_color is not None:\n",
    "            cropped_folder = path_to_cr_data + celebrity_name\n",
    "            if not os.path.exists(cropped_folder):\n",
    "                os.makedirs(cropped_folder)\n",
    "                cropped_image_dirs.append(cropped_folder)\n",
    "                print(\"Generating cropped images in folder: \",cropped_folder)\n",
    "            cropped_file_name = celebrity_name + str(count) + \".png\"\n",
    "            cropped_file_path = cropped_folder + \"/\" + cropped_file_name\n",
    "            cv2.imwrite(cropped_file_path, roi_color)\n",
    "            celebrity_file_names_dict[celebrity_name].append(cropped_file_path)\n",
    "            count += 1"
   ]
  },
  {
   "cell_type": "code",
   "execution_count": 12,
   "id": "00cabbba",
   "metadata": {},
   "outputs": [
    {
     "data": {
      "text/plain": [
       "{'Angelina Jolie': ['./dataset_stars/cropped/Angelina Jolie\\\\Angelina Jolie1.png',\n",
       "  './dataset_stars/cropped/Angelina Jolie\\\\Angelina Jolie10.png',\n",
       "  './dataset_stars/cropped/Angelina Jolie\\\\Angelina Jolie11.png',\n",
       "  './dataset_stars/cropped/Angelina Jolie\\\\Angelina Jolie12.png',\n",
       "  './dataset_stars/cropped/Angelina Jolie\\\\Angelina Jolie13.png',\n",
       "  './dataset_stars/cropped/Angelina Jolie\\\\Angelina Jolie14.png',\n",
       "  './dataset_stars/cropped/Angelina Jolie\\\\Angelina Jolie15.png',\n",
       "  './dataset_stars/cropped/Angelina Jolie\\\\Angelina Jolie16.png',\n",
       "  './dataset_stars/cropped/Angelina Jolie\\\\Angelina Jolie17.png',\n",
       "  './dataset_stars/cropped/Angelina Jolie\\\\Angelina Jolie18.png',\n",
       "  './dataset_stars/cropped/Angelina Jolie\\\\Angelina Jolie19.png',\n",
       "  './dataset_stars/cropped/Angelina Jolie\\\\Angelina Jolie2.png',\n",
       "  './dataset_stars/cropped/Angelina Jolie\\\\Angelina Jolie20.png',\n",
       "  './dataset_stars/cropped/Angelina Jolie\\\\Angelina Jolie21.png',\n",
       "  './dataset_stars/cropped/Angelina Jolie\\\\Angelina Jolie22.png',\n",
       "  './dataset_stars/cropped/Angelina Jolie\\\\Angelina Jolie23.png',\n",
       "  './dataset_stars/cropped/Angelina Jolie\\\\Angelina Jolie24.png',\n",
       "  './dataset_stars/cropped/Angelina Jolie\\\\Angelina Jolie25.png',\n",
       "  './dataset_stars/cropped/Angelina Jolie\\\\Angelina Jolie26.png',\n",
       "  './dataset_stars/cropped/Angelina Jolie\\\\Angelina Jolie27.png',\n",
       "  './dataset_stars/cropped/Angelina Jolie\\\\Angelina Jolie28.png',\n",
       "  './dataset_stars/cropped/Angelina Jolie\\\\Angelina Jolie29.png',\n",
       "  './dataset_stars/cropped/Angelina Jolie\\\\Angelina Jolie3.png',\n",
       "  './dataset_stars/cropped/Angelina Jolie\\\\Angelina Jolie30.png',\n",
       "  './dataset_stars/cropped/Angelina Jolie\\\\Angelina Jolie31.png',\n",
       "  './dataset_stars/cropped/Angelina Jolie\\\\Angelina Jolie32.png',\n",
       "  './dataset_stars/cropped/Angelina Jolie\\\\Angelina Jolie33.png',\n",
       "  './dataset_stars/cropped/Angelina Jolie\\\\Angelina Jolie34.png',\n",
       "  './dataset_stars/cropped/Angelina Jolie\\\\Angelina Jolie35.png',\n",
       "  './dataset_stars/cropped/Angelina Jolie\\\\Angelina Jolie36.png',\n",
       "  './dataset_stars/cropped/Angelina Jolie\\\\Angelina Jolie37.png',\n",
       "  './dataset_stars/cropped/Angelina Jolie\\\\Angelina Jolie38.png',\n",
       "  './dataset_stars/cropped/Angelina Jolie\\\\Angelina Jolie39.png',\n",
       "  './dataset_stars/cropped/Angelina Jolie\\\\Angelina Jolie4.png',\n",
       "  './dataset_stars/cropped/Angelina Jolie\\\\Angelina Jolie40.png',\n",
       "  './dataset_stars/cropped/Angelina Jolie\\\\Angelina Jolie41.png',\n",
       "  './dataset_stars/cropped/Angelina Jolie\\\\Angelina Jolie42.png',\n",
       "  './dataset_stars/cropped/Angelina Jolie\\\\Angelina Jolie43.png',\n",
       "  './dataset_stars/cropped/Angelina Jolie\\\\Angelina Jolie44.png',\n",
       "  './dataset_stars/cropped/Angelina Jolie\\\\Angelina Jolie45.png',\n",
       "  './dataset_stars/cropped/Angelina Jolie\\\\Angelina Jolie46.png',\n",
       "  './dataset_stars/cropped/Angelina Jolie\\\\Angelina Jolie47.png',\n",
       "  './dataset_stars/cropped/Angelina Jolie\\\\Angelina Jolie48.png',\n",
       "  './dataset_stars/cropped/Angelina Jolie\\\\Angelina Jolie49.png',\n",
       "  './dataset_stars/cropped/Angelina Jolie\\\\Angelina Jolie5.png',\n",
       "  './dataset_stars/cropped/Angelina Jolie\\\\Angelina Jolie6.png',\n",
       "  './dataset_stars/cropped/Angelina Jolie\\\\Angelina Jolie7.png',\n",
       "  './dataset_stars/cropped/Angelina Jolie\\\\Angelina Jolie8.png',\n",
       "  './dataset_stars/cropped/Angelina Jolie\\\\Angelina Jolie9.png'],\n",
       " 'Brad Pitt': ['./dataset_stars/cropped/Brad Pitt\\\\Brad Pitt1.png',\n",
       "  './dataset_stars/cropped/Brad Pitt\\\\Brad Pitt10.png',\n",
       "  './dataset_stars/cropped/Brad Pitt\\\\Brad Pitt11.png',\n",
       "  './dataset_stars/cropped/Brad Pitt\\\\Brad Pitt12.png',\n",
       "  './dataset_stars/cropped/Brad Pitt\\\\Brad Pitt13.png',\n",
       "  './dataset_stars/cropped/Brad Pitt\\\\Brad Pitt14.png',\n",
       "  './dataset_stars/cropped/Brad Pitt\\\\Brad Pitt15.png',\n",
       "  './dataset_stars/cropped/Brad Pitt\\\\Brad Pitt16.png',\n",
       "  './dataset_stars/cropped/Brad Pitt\\\\Brad Pitt17.png',\n",
       "  './dataset_stars/cropped/Brad Pitt\\\\Brad Pitt18.png',\n",
       "  './dataset_stars/cropped/Brad Pitt\\\\Brad Pitt19.png',\n",
       "  './dataset_stars/cropped/Brad Pitt\\\\Brad Pitt2.png',\n",
       "  './dataset_stars/cropped/Brad Pitt\\\\Brad Pitt20.png',\n",
       "  './dataset_stars/cropped/Brad Pitt\\\\Brad Pitt21.png',\n",
       "  './dataset_stars/cropped/Brad Pitt\\\\Brad Pitt22.png',\n",
       "  './dataset_stars/cropped/Brad Pitt\\\\Brad Pitt23.png',\n",
       "  './dataset_stars/cropped/Brad Pitt\\\\Brad Pitt24.png',\n",
       "  './dataset_stars/cropped/Brad Pitt\\\\Brad Pitt25.png',\n",
       "  './dataset_stars/cropped/Brad Pitt\\\\Brad Pitt26.png',\n",
       "  './dataset_stars/cropped/Brad Pitt\\\\Brad Pitt27.png',\n",
       "  './dataset_stars/cropped/Brad Pitt\\\\Brad Pitt28.png',\n",
       "  './dataset_stars/cropped/Brad Pitt\\\\Brad Pitt29.png',\n",
       "  './dataset_stars/cropped/Brad Pitt\\\\Brad Pitt3.png',\n",
       "  './dataset_stars/cropped/Brad Pitt\\\\Brad Pitt30.png',\n",
       "  './dataset_stars/cropped/Brad Pitt\\\\Brad Pitt31.png',\n",
       "  './dataset_stars/cropped/Brad Pitt\\\\Brad Pitt32.png',\n",
       "  './dataset_stars/cropped/Brad Pitt\\\\Brad Pitt33.png',\n",
       "  './dataset_stars/cropped/Brad Pitt\\\\Brad Pitt34.png',\n",
       "  './dataset_stars/cropped/Brad Pitt\\\\Brad Pitt35.png',\n",
       "  './dataset_stars/cropped/Brad Pitt\\\\Brad Pitt36.png',\n",
       "  './dataset_stars/cropped/Brad Pitt\\\\Brad Pitt37.png',\n",
       "  './dataset_stars/cropped/Brad Pitt\\\\Brad Pitt38.png',\n",
       "  './dataset_stars/cropped/Brad Pitt\\\\Brad Pitt39.png',\n",
       "  './dataset_stars/cropped/Brad Pitt\\\\Brad Pitt4.png',\n",
       "  './dataset_stars/cropped/Brad Pitt\\\\Brad Pitt40.png',\n",
       "  './dataset_stars/cropped/Brad Pitt\\\\Brad Pitt5.png',\n",
       "  './dataset_stars/cropped/Brad Pitt\\\\Brad Pitt6.png',\n",
       "  './dataset_stars/cropped/Brad Pitt\\\\Brad Pitt7.png',\n",
       "  './dataset_stars/cropped/Brad Pitt\\\\Brad Pitt8.png',\n",
       "  './dataset_stars/cropped/Brad Pitt\\\\Brad Pitt9.png'],\n",
       " 'Leonardo DiCaprio': ['./dataset_stars/cropped/Leonardo DiCaprio\\\\Leonardo DiCaprio1.png',\n",
       "  './dataset_stars/cropped/Leonardo DiCaprio\\\\Leonardo DiCaprio10.png',\n",
       "  './dataset_stars/cropped/Leonardo DiCaprio\\\\Leonardo DiCaprio11.png',\n",
       "  './dataset_stars/cropped/Leonardo DiCaprio\\\\Leonardo DiCaprio12.png',\n",
       "  './dataset_stars/cropped/Leonardo DiCaprio\\\\Leonardo DiCaprio13.png',\n",
       "  './dataset_stars/cropped/Leonardo DiCaprio\\\\Leonardo DiCaprio14.png',\n",
       "  './dataset_stars/cropped/Leonardo DiCaprio\\\\Leonardo DiCaprio15.png',\n",
       "  './dataset_stars/cropped/Leonardo DiCaprio\\\\Leonardo DiCaprio16.png',\n",
       "  './dataset_stars/cropped/Leonardo DiCaprio\\\\Leonardo DiCaprio17.png',\n",
       "  './dataset_stars/cropped/Leonardo DiCaprio\\\\Leonardo DiCaprio18.png',\n",
       "  './dataset_stars/cropped/Leonardo DiCaprio\\\\Leonardo DiCaprio19.png',\n",
       "  './dataset_stars/cropped/Leonardo DiCaprio\\\\Leonardo DiCaprio2.png',\n",
       "  './dataset_stars/cropped/Leonardo DiCaprio\\\\Leonardo DiCaprio20.png',\n",
       "  './dataset_stars/cropped/Leonardo DiCaprio\\\\Leonardo DiCaprio21.png',\n",
       "  './dataset_stars/cropped/Leonardo DiCaprio\\\\Leonardo DiCaprio22.png',\n",
       "  './dataset_stars/cropped/Leonardo DiCaprio\\\\Leonardo DiCaprio23.png',\n",
       "  './dataset_stars/cropped/Leonardo DiCaprio\\\\Leonardo DiCaprio24.png',\n",
       "  './dataset_stars/cropped/Leonardo DiCaprio\\\\Leonardo DiCaprio25.png',\n",
       "  './dataset_stars/cropped/Leonardo DiCaprio\\\\Leonardo DiCaprio26.png',\n",
       "  './dataset_stars/cropped/Leonardo DiCaprio\\\\Leonardo DiCaprio27.png',\n",
       "  './dataset_stars/cropped/Leonardo DiCaprio\\\\Leonardo DiCaprio28.png',\n",
       "  './dataset_stars/cropped/Leonardo DiCaprio\\\\Leonardo DiCaprio29.png',\n",
       "  './dataset_stars/cropped/Leonardo DiCaprio\\\\Leonardo DiCaprio3.png',\n",
       "  './dataset_stars/cropped/Leonardo DiCaprio\\\\Leonardo DiCaprio30.png',\n",
       "  './dataset_stars/cropped/Leonardo DiCaprio\\\\Leonardo DiCaprio31.png',\n",
       "  './dataset_stars/cropped/Leonardo DiCaprio\\\\Leonardo DiCaprio32.png',\n",
       "  './dataset_stars/cropped/Leonardo DiCaprio\\\\Leonardo DiCaprio33.png',\n",
       "  './dataset_stars/cropped/Leonardo DiCaprio\\\\Leonardo DiCaprio34.png',\n",
       "  './dataset_stars/cropped/Leonardo DiCaprio\\\\Leonardo DiCaprio35.png',\n",
       "  './dataset_stars/cropped/Leonardo DiCaprio\\\\Leonardo DiCaprio36.png',\n",
       "  './dataset_stars/cropped/Leonardo DiCaprio\\\\Leonardo DiCaprio37.png',\n",
       "  './dataset_stars/cropped/Leonardo DiCaprio\\\\Leonardo DiCaprio38.png',\n",
       "  './dataset_stars/cropped/Leonardo DiCaprio\\\\Leonardo DiCaprio39.png',\n",
       "  './dataset_stars/cropped/Leonardo DiCaprio\\\\Leonardo DiCaprio4.png',\n",
       "  './dataset_stars/cropped/Leonardo DiCaprio\\\\Leonardo DiCaprio40.png',\n",
       "  './dataset_stars/cropped/Leonardo DiCaprio\\\\Leonardo DiCaprio41.png',\n",
       "  './dataset_stars/cropped/Leonardo DiCaprio\\\\Leonardo DiCaprio42.png',\n",
       "  './dataset_stars/cropped/Leonardo DiCaprio\\\\Leonardo DiCaprio43.png',\n",
       "  './dataset_stars/cropped/Leonardo DiCaprio\\\\Leonardo DiCaprio44.png',\n",
       "  './dataset_stars/cropped/Leonardo DiCaprio\\\\Leonardo DiCaprio45.png',\n",
       "  './dataset_stars/cropped/Leonardo DiCaprio\\\\Leonardo DiCaprio46.png',\n",
       "  './dataset_stars/cropped/Leonardo DiCaprio\\\\Leonardo DiCaprio47.png',\n",
       "  './dataset_stars/cropped/Leonardo DiCaprio\\\\Leonardo DiCaprio5.png',\n",
       "  './dataset_stars/cropped/Leonardo DiCaprio\\\\Leonardo DiCaprio6.png',\n",
       "  './dataset_stars/cropped/Leonardo DiCaprio\\\\Leonardo DiCaprio7.png',\n",
       "  './dataset_stars/cropped/Leonardo DiCaprio\\\\Leonardo DiCaprio8.png',\n",
       "  './dataset_stars/cropped/Leonardo DiCaprio\\\\Leonardo DiCaprio9.png'],\n",
       " 'Lionel Messi': ['./dataset_stars/cropped/Lionel Messi\\\\Lionel Messi1.png',\n",
       "  './dataset_stars/cropped/Lionel Messi\\\\Lionel Messi10.png',\n",
       "  './dataset_stars/cropped/Lionel Messi\\\\Lionel Messi11.png',\n",
       "  './dataset_stars/cropped/Lionel Messi\\\\Lionel Messi12.png',\n",
       "  './dataset_stars/cropped/Lionel Messi\\\\Lionel Messi13.png',\n",
       "  './dataset_stars/cropped/Lionel Messi\\\\Lionel Messi14.png',\n",
       "  './dataset_stars/cropped/Lionel Messi\\\\Lionel Messi15.png',\n",
       "  './dataset_stars/cropped/Lionel Messi\\\\Lionel Messi16.png',\n",
       "  './dataset_stars/cropped/Lionel Messi\\\\Lionel Messi17.png',\n",
       "  './dataset_stars/cropped/Lionel Messi\\\\Lionel Messi18.png',\n",
       "  './dataset_stars/cropped/Lionel Messi\\\\Lionel Messi19.png',\n",
       "  './dataset_stars/cropped/Lionel Messi\\\\Lionel Messi2.png',\n",
       "  './dataset_stars/cropped/Lionel Messi\\\\Lionel Messi20.png',\n",
       "  './dataset_stars/cropped/Lionel Messi\\\\Lionel Messi21.png',\n",
       "  './dataset_stars/cropped/Lionel Messi\\\\Lionel Messi22.png',\n",
       "  './dataset_stars/cropped/Lionel Messi\\\\Lionel Messi23.png',\n",
       "  './dataset_stars/cropped/Lionel Messi\\\\Lionel Messi24.png',\n",
       "  './dataset_stars/cropped/Lionel Messi\\\\Lionel Messi25.png',\n",
       "  './dataset_stars/cropped/Lionel Messi\\\\Lionel Messi3.png',\n",
       "  './dataset_stars/cropped/Lionel Messi\\\\Lionel Messi4.png',\n",
       "  './dataset_stars/cropped/Lionel Messi\\\\Lionel Messi5.png',\n",
       "  './dataset_stars/cropped/Lionel Messi\\\\Lionel Messi6.png',\n",
       "  './dataset_stars/cropped/Lionel Messi\\\\Lionel Messi7.png',\n",
       "  './dataset_stars/cropped/Lionel Messi\\\\Lionel Messi8.png',\n",
       "  './dataset_stars/cropped/Lionel Messi\\\\Lionel Messi9.png'],\n",
       " 'Tom Cruise': ['./dataset_stars/cropped/Tom Cruise\\\\Tom Cruise1.png',\n",
       "  './dataset_stars/cropped/Tom Cruise\\\\Tom Cruise10.png',\n",
       "  './dataset_stars/cropped/Tom Cruise\\\\Tom Cruise11.png',\n",
       "  './dataset_stars/cropped/Tom Cruise\\\\Tom Cruise12.png',\n",
       "  './dataset_stars/cropped/Tom Cruise\\\\Tom Cruise13.png',\n",
       "  './dataset_stars/cropped/Tom Cruise\\\\Tom Cruise14.png',\n",
       "  './dataset_stars/cropped/Tom Cruise\\\\Tom Cruise15.png',\n",
       "  './dataset_stars/cropped/Tom Cruise\\\\Tom Cruise16.png',\n",
       "  './dataset_stars/cropped/Tom Cruise\\\\Tom Cruise17.png',\n",
       "  './dataset_stars/cropped/Tom Cruise\\\\Tom Cruise18.png',\n",
       "  './dataset_stars/cropped/Tom Cruise\\\\Tom Cruise19.png',\n",
       "  './dataset_stars/cropped/Tom Cruise\\\\Tom Cruise2.png',\n",
       "  './dataset_stars/cropped/Tom Cruise\\\\Tom Cruise20.png',\n",
       "  './dataset_stars/cropped/Tom Cruise\\\\Tom Cruise21.png',\n",
       "  './dataset_stars/cropped/Tom Cruise\\\\Tom Cruise22.png',\n",
       "  './dataset_stars/cropped/Tom Cruise\\\\Tom Cruise23.png',\n",
       "  './dataset_stars/cropped/Tom Cruise\\\\Tom Cruise24.png',\n",
       "  './dataset_stars/cropped/Tom Cruise\\\\Tom Cruise25.png',\n",
       "  './dataset_stars/cropped/Tom Cruise\\\\Tom Cruise26.png',\n",
       "  './dataset_stars/cropped/Tom Cruise\\\\Tom Cruise27.png',\n",
       "  './dataset_stars/cropped/Tom Cruise\\\\Tom Cruise28.png',\n",
       "  './dataset_stars/cropped/Tom Cruise\\\\Tom Cruise29.png',\n",
       "  './dataset_stars/cropped/Tom Cruise\\\\Tom Cruise3.png',\n",
       "  './dataset_stars/cropped/Tom Cruise\\\\Tom Cruise30.png',\n",
       "  './dataset_stars/cropped/Tom Cruise\\\\Tom Cruise31.png',\n",
       "  './dataset_stars/cropped/Tom Cruise\\\\Tom Cruise32.png',\n",
       "  './dataset_stars/cropped/Tom Cruise\\\\Tom Cruise4.png',\n",
       "  './dataset_stars/cropped/Tom Cruise\\\\Tom Cruise5.png',\n",
       "  './dataset_stars/cropped/Tom Cruise\\\\Tom Cruise6.png',\n",
       "  './dataset_stars/cropped/Tom Cruise\\\\Tom Cruise7.png',\n",
       "  './dataset_stars/cropped/Tom Cruise\\\\Tom Cruise8.png',\n",
       "  './dataset_stars/cropped/Tom Cruise\\\\Tom Cruise9.png']}"
      ]
     },
     "execution_count": 12,
     "metadata": {},
     "output_type": "execute_result"
    }
   ],
   "source": [
    "celebrity_file_names_dict = {}\n",
    "for img_dir in cropped_image_dirs:\n",
    "    celebrity_name = img_dir.split('/')[-1]\n",
    "    file_list = []\n",
    "    for entry in os.scandir(img_dir):\n",
    "        file_list.append(entry.path)\n",
    "    celebrity_file_names_dict[celebrity_name] = file_list\n",
    "celebrity_file_names_dict"
   ]
  },
  {
   "cell_type": "code",
   "execution_count": 13,
   "id": "3d4229ff",
   "metadata": {},
   "outputs": [
    {
     "data": {
      "text/plain": [
       "{'Angelina Jolie': 0,\n",
       " 'Brad Pitt': 1,\n",
       " 'Leonardo DiCaprio': 2,\n",
       " 'Lionel Messi': 3,\n",
       " 'Tom Cruise': 4}"
      ]
     },
     "execution_count": 13,
     "metadata": {},
     "output_type": "execute_result"
    }
   ],
   "source": [
    "class_dict = {}\n",
    "count = 0\n",
    "for celebrity_name in celebrity_file_names_dict.keys():\n",
    "    class_dict[celebrity_name] = count\n",
    "    count = count + 1\n",
    "class_dict"
   ]
  },
  {
   "cell_type": "code",
   "execution_count": 14,
   "id": "3e7fd41a",
   "metadata": {},
   "outputs": [],
   "source": [
    "import numpy as np\n",
    "import pywt\n",
    "import cv2    \n",
    "#transformation en ondelettes discrètes (DWT)\n",
    "def w2d(img, mode='haar', level=1):\n",
    "    imArray = img\n",
    "\n",
    "    imArray = cv2.cvtColor( imArray,cv2.COLOR_RGB2GRAY )\n",
    "    imArray =  np.float32(imArray)   \n",
    "    imArray /= 255\n",
    "    coeffs=pywt.wavedec2(imArray, mode, level=level)\n",
    "\n",
    "    coeffs_H=list(coeffs)  \n",
    "    coeffs_H[0] *= 0;  \n",
    "\n",
    "    imArray_H=pywt.waverec2(coeffs_H, mode)\n",
    "    imArray_H *= 255\n",
    "    imArray_H =  np.uint8(imArray_H)\n",
    "\n",
    "    return imArray_H"
   ]
  },
  {
   "cell_type": "code",
   "execution_count": 15,
   "id": "687605da",
   "metadata": {},
   "outputs": [],
   "source": [
    "X, y = [], []\n",
    "for celebrity_name, training_files in celebrity_file_names_dict.items():\n",
    "    for training_image in training_files:\n",
    "        img = cv2.imread(training_image)\n",
    "        scalled_raw_img = cv2.resize(img, (32, 32))\n",
    "        img_har = w2d(img,'db1',5)\n",
    "        scalled_img_har = cv2.resize(img_har, (32, 32))\n",
    "        combined_img = np.vstack((scalled_raw_img.reshape(32*32*3,1),scalled_img_har.reshape(32*32,1)))\n",
    "        X.append(combined_img)\n",
    "        y.append(class_dict[celebrity_name])     "
   ]
  },
  {
   "cell_type": "code",
   "execution_count": 20,
   "id": "2688922d",
   "metadata": {},
   "outputs": [
    {
     "data": {
      "text/plain": [
       "4096"
      ]
     },
     "execution_count": 20,
     "metadata": {},
     "output_type": "execute_result"
    }
   ],
   "source": [
    "len(X[0])"
   ]
  },
  {
   "cell_type": "code",
   "execution_count": null,
   "id": "7640b52a",
   "metadata": {},
   "outputs": [],
   "source": [
    "X = np.array(X).reshape(len(X),4096).astype(float)\n",
    "X.shape"
   ]
  },
  {
   "cell_type": "code",
   "execution_count": 21,
   "id": "6a57da8d",
   "metadata": {},
   "outputs": [],
   "source": [
    "from sklearn.svm import SVC\n",
    "from sklearn.preprocessing import StandardScaler\n",
    "from sklearn.model_selection import train_test_split\n",
    "from sklearn.pipeline import Pipeline\n",
    "from sklearn.metrics import classification_report"
   ]
  },
  {
   "cell_type": "code",
   "execution_count": 22,
   "id": "14ee1d91",
   "metadata": {},
   "outputs": [
    {
     "data": {
      "text/plain": [
       "0.7142857142857143"
      ]
     },
     "execution_count": 22,
     "metadata": {},
     "output_type": "execute_result"
    }
   ],
   "source": [
    "X_train, X_test, y_train, y_test = train_test_split(X, y, random_state=0)\n",
    "\n",
    "pipe = Pipeline([('scaler', StandardScaler()), ('svc', SVC(kernel = 'rbf', C = 10))])\n",
    "pipe.fit(X_train, y_train)\n",
    "pipe.score(X_test, y_test)"
   ]
  },
  {
   "cell_type": "code",
   "execution_count": 23,
   "id": "e7ab5a48",
   "metadata": {},
   "outputs": [
    {
     "name": "stdout",
     "output_type": "stream",
     "text": [
      "              precision    recall  f1-score   support\n",
      "\n",
      "           0       1.00      0.77      0.87        13\n",
      "           1       0.36      0.71      0.48         7\n",
      "           2       0.67      0.71      0.69        14\n",
      "           3       1.00      0.62      0.77         8\n",
      "           4       1.00      0.71      0.83         7\n",
      "\n",
      "    accuracy                           0.71        49\n",
      "   macro avg       0.80      0.71      0.73        49\n",
      "weighted avg       0.81      0.71      0.74        49\n",
      "\n"
     ]
    }
   ],
   "source": [
    "print(classification_report(y_test, pipe.predict(X_test)))\n"
   ]
  },
  {
   "cell_type": "code",
   "execution_count": 24,
   "id": "cfc3b22b",
   "metadata": {},
   "outputs": [],
   "source": [
    "from sklearn import svm\n",
    "from sklearn.ensemble import RandomForestClassifier\n",
    "from sklearn.linear_model import LogisticRegression\n",
    "from sklearn.pipeline import make_pipeline\n",
    "from sklearn.model_selection import GridSearchCV"
   ]
  },
  {
   "cell_type": "code",
   "execution_count": 25,
   "id": "442b821a",
   "metadata": {},
   "outputs": [],
   "source": [
    "model_params = {\n",
    "    'svm': {\n",
    "        'model': svm.SVC(gamma='auto',probability=True),\n",
    "        'params' : {\n",
    "            'svc__C': [1,10,100,1000],\n",
    "            'svc__kernel': ['rbf','linear']\n",
    "        }  \n",
    "    },\n",
    "    'random_forest': {\n",
    "        'model': RandomForestClassifier(),\n",
    "        'params' : {\n",
    "            'randomforestclassifier__n_estimators': [1,5,10]\n",
    "        }\n",
    "    },\n",
    "    'logistic_regression' : {\n",
    "        'model': LogisticRegression(solver='liblinear',multi_class='auto'),\n",
    "        'params': {\n",
    "            'logisticregression__C': [1,5,10]\n",
    "        }\n",
    "    }\n",
    "}"
   ]
  },
  {
   "cell_type": "code",
   "execution_count": 26,
   "id": "b621a902",
   "metadata": {},
   "outputs": [
    {
     "name": "stderr",
     "output_type": "stream",
     "text": [
      "c:\\Users\\smahri\\OneDrive\\OneDrive\\master\\projet\\Nouveau dossier\\.venv\\Lib\\site-packages\\sklearn\\linear_model\\_logistic.py:1272: FutureWarning: 'multi_class' was deprecated in version 1.5 and will be removed in 1.8. From then on, it will always use 'multinomial'. Leave it to its default value to avoid this warning.\n",
      "  warnings.warn(\n",
      "c:\\Users\\smahri\\OneDrive\\OneDrive\\master\\projet\\Nouveau dossier\\.venv\\Lib\\site-packages\\sklearn\\linear_model\\_logistic.py:1296: FutureWarning: Using the 'liblinear' solver for multiclass classification is deprecated. An error will be raised in 1.8. Either use another solver which supports the multinomial loss or wrap the estimator in a OneVsRestClassifier to keep applying a one-versus-rest scheme.\n",
      "  warnings.warn(\n",
      "c:\\Users\\smahri\\OneDrive\\OneDrive\\master\\projet\\Nouveau dossier\\.venv\\Lib\\site-packages\\sklearn\\linear_model\\_logistic.py:1272: FutureWarning: 'multi_class' was deprecated in version 1.5 and will be removed in 1.8. From then on, it will always use 'multinomial'. Leave it to its default value to avoid this warning.\n",
      "  warnings.warn(\n",
      "c:\\Users\\smahri\\OneDrive\\OneDrive\\master\\projet\\Nouveau dossier\\.venv\\Lib\\site-packages\\sklearn\\linear_model\\_logistic.py:1296: FutureWarning: Using the 'liblinear' solver for multiclass classification is deprecated. An error will be raised in 1.8. Either use another solver which supports the multinomial loss or wrap the estimator in a OneVsRestClassifier to keep applying a one-versus-rest scheme.\n",
      "  warnings.warn(\n",
      "c:\\Users\\smahri\\OneDrive\\OneDrive\\master\\projet\\Nouveau dossier\\.venv\\Lib\\site-packages\\sklearn\\linear_model\\_logistic.py:1272: FutureWarning: 'multi_class' was deprecated in version 1.5 and will be removed in 1.8. From then on, it will always use 'multinomial'. Leave it to its default value to avoid this warning.\n",
      "  warnings.warn(\n",
      "c:\\Users\\smahri\\OneDrive\\OneDrive\\master\\projet\\Nouveau dossier\\.venv\\Lib\\site-packages\\sklearn\\linear_model\\_logistic.py:1296: FutureWarning: Using the 'liblinear' solver for multiclass classification is deprecated. An error will be raised in 1.8. Either use another solver which supports the multinomial loss or wrap the estimator in a OneVsRestClassifier to keep applying a one-versus-rest scheme.\n",
      "  warnings.warn(\n",
      "c:\\Users\\smahri\\OneDrive\\OneDrive\\master\\projet\\Nouveau dossier\\.venv\\Lib\\site-packages\\sklearn\\linear_model\\_logistic.py:1272: FutureWarning: 'multi_class' was deprecated in version 1.5 and will be removed in 1.8. From then on, it will always use 'multinomial'. Leave it to its default value to avoid this warning.\n",
      "  warnings.warn(\n",
      "c:\\Users\\smahri\\OneDrive\\OneDrive\\master\\projet\\Nouveau dossier\\.venv\\Lib\\site-packages\\sklearn\\linear_model\\_logistic.py:1296: FutureWarning: Using the 'liblinear' solver for multiclass classification is deprecated. An error will be raised in 1.8. Either use another solver which supports the multinomial loss or wrap the estimator in a OneVsRestClassifier to keep applying a one-versus-rest scheme.\n",
      "  warnings.warn(\n",
      "c:\\Users\\smahri\\OneDrive\\OneDrive\\master\\projet\\Nouveau dossier\\.venv\\Lib\\site-packages\\sklearn\\linear_model\\_logistic.py:1272: FutureWarning: 'multi_class' was deprecated in version 1.5 and will be removed in 1.8. From then on, it will always use 'multinomial'. Leave it to its default value to avoid this warning.\n",
      "  warnings.warn(\n",
      "c:\\Users\\smahri\\OneDrive\\OneDrive\\master\\projet\\Nouveau dossier\\.venv\\Lib\\site-packages\\sklearn\\linear_model\\_logistic.py:1296: FutureWarning: Using the 'liblinear' solver for multiclass classification is deprecated. An error will be raised in 1.8. Either use another solver which supports the multinomial loss or wrap the estimator in a OneVsRestClassifier to keep applying a one-versus-rest scheme.\n",
      "  warnings.warn(\n",
      "c:\\Users\\smahri\\OneDrive\\OneDrive\\master\\projet\\Nouveau dossier\\.venv\\Lib\\site-packages\\sklearn\\linear_model\\_logistic.py:1272: FutureWarning: 'multi_class' was deprecated in version 1.5 and will be removed in 1.8. From then on, it will always use 'multinomial'. Leave it to its default value to avoid this warning.\n",
      "  warnings.warn(\n",
      "c:\\Users\\smahri\\OneDrive\\OneDrive\\master\\projet\\Nouveau dossier\\.venv\\Lib\\site-packages\\sklearn\\linear_model\\_logistic.py:1296: FutureWarning: Using the 'liblinear' solver for multiclass classification is deprecated. An error will be raised in 1.8. Either use another solver which supports the multinomial loss or wrap the estimator in a OneVsRestClassifier to keep applying a one-versus-rest scheme.\n",
      "  warnings.warn(\n",
      "c:\\Users\\smahri\\OneDrive\\OneDrive\\master\\projet\\Nouveau dossier\\.venv\\Lib\\site-packages\\sklearn\\linear_model\\_logistic.py:1272: FutureWarning: 'multi_class' was deprecated in version 1.5 and will be removed in 1.8. From then on, it will always use 'multinomial'. Leave it to its default value to avoid this warning.\n",
      "  warnings.warn(\n",
      "c:\\Users\\smahri\\OneDrive\\OneDrive\\master\\projet\\Nouveau dossier\\.venv\\Lib\\site-packages\\sklearn\\linear_model\\_logistic.py:1296: FutureWarning: Using the 'liblinear' solver for multiclass classification is deprecated. An error will be raised in 1.8. Either use another solver which supports the multinomial loss or wrap the estimator in a OneVsRestClassifier to keep applying a one-versus-rest scheme.\n",
      "  warnings.warn(\n",
      "c:\\Users\\smahri\\OneDrive\\OneDrive\\master\\projet\\Nouveau dossier\\.venv\\Lib\\site-packages\\sklearn\\linear_model\\_logistic.py:1272: FutureWarning: 'multi_class' was deprecated in version 1.5 and will be removed in 1.8. From then on, it will always use 'multinomial'. Leave it to its default value to avoid this warning.\n",
      "  warnings.warn(\n",
      "c:\\Users\\smahri\\OneDrive\\OneDrive\\master\\projet\\Nouveau dossier\\.venv\\Lib\\site-packages\\sklearn\\linear_model\\_logistic.py:1296: FutureWarning: Using the 'liblinear' solver for multiclass classification is deprecated. An error will be raised in 1.8. Either use another solver which supports the multinomial loss or wrap the estimator in a OneVsRestClassifier to keep applying a one-versus-rest scheme.\n",
      "  warnings.warn(\n",
      "c:\\Users\\smahri\\OneDrive\\OneDrive\\master\\projet\\Nouveau dossier\\.venv\\Lib\\site-packages\\sklearn\\linear_model\\_logistic.py:1272: FutureWarning: 'multi_class' was deprecated in version 1.5 and will be removed in 1.8. From then on, it will always use 'multinomial'. Leave it to its default value to avoid this warning.\n",
      "  warnings.warn(\n",
      "c:\\Users\\smahri\\OneDrive\\OneDrive\\master\\projet\\Nouveau dossier\\.venv\\Lib\\site-packages\\sklearn\\linear_model\\_logistic.py:1296: FutureWarning: Using the 'liblinear' solver for multiclass classification is deprecated. An error will be raised in 1.8. Either use another solver which supports the multinomial loss or wrap the estimator in a OneVsRestClassifier to keep applying a one-versus-rest scheme.\n",
      "  warnings.warn(\n",
      "c:\\Users\\smahri\\OneDrive\\OneDrive\\master\\projet\\Nouveau dossier\\.venv\\Lib\\site-packages\\sklearn\\linear_model\\_logistic.py:1272: FutureWarning: 'multi_class' was deprecated in version 1.5 and will be removed in 1.8. From then on, it will always use 'multinomial'. Leave it to its default value to avoid this warning.\n",
      "  warnings.warn(\n",
      "c:\\Users\\smahri\\OneDrive\\OneDrive\\master\\projet\\Nouveau dossier\\.venv\\Lib\\site-packages\\sklearn\\linear_model\\_logistic.py:1296: FutureWarning: Using the 'liblinear' solver for multiclass classification is deprecated. An error will be raised in 1.8. Either use another solver which supports the multinomial loss or wrap the estimator in a OneVsRestClassifier to keep applying a one-versus-rest scheme.\n",
      "  warnings.warn(\n",
      "c:\\Users\\smahri\\OneDrive\\OneDrive\\master\\projet\\Nouveau dossier\\.venv\\Lib\\site-packages\\sklearn\\linear_model\\_logistic.py:1272: FutureWarning: 'multi_class' was deprecated in version 1.5 and will be removed in 1.8. From then on, it will always use 'multinomial'. Leave it to its default value to avoid this warning.\n",
      "  warnings.warn(\n",
      "c:\\Users\\smahri\\OneDrive\\OneDrive\\master\\projet\\Nouveau dossier\\.venv\\Lib\\site-packages\\sklearn\\linear_model\\_logistic.py:1296: FutureWarning: Using the 'liblinear' solver for multiclass classification is deprecated. An error will be raised in 1.8. Either use another solver which supports the multinomial loss or wrap the estimator in a OneVsRestClassifier to keep applying a one-versus-rest scheme.\n",
      "  warnings.warn(\n",
      "c:\\Users\\smahri\\OneDrive\\OneDrive\\master\\projet\\Nouveau dossier\\.venv\\Lib\\site-packages\\sklearn\\linear_model\\_logistic.py:1272: FutureWarning: 'multi_class' was deprecated in version 1.5 and will be removed in 1.8. From then on, it will always use 'multinomial'. Leave it to its default value to avoid this warning.\n",
      "  warnings.warn(\n",
      "c:\\Users\\smahri\\OneDrive\\OneDrive\\master\\projet\\Nouveau dossier\\.venv\\Lib\\site-packages\\sklearn\\linear_model\\_logistic.py:1296: FutureWarning: Using the 'liblinear' solver for multiclass classification is deprecated. An error will be raised in 1.8. Either use another solver which supports the multinomial loss or wrap the estimator in a OneVsRestClassifier to keep applying a one-versus-rest scheme.\n",
      "  warnings.warn(\n",
      "c:\\Users\\smahri\\OneDrive\\OneDrive\\master\\projet\\Nouveau dossier\\.venv\\Lib\\site-packages\\sklearn\\linear_model\\_logistic.py:1272: FutureWarning: 'multi_class' was deprecated in version 1.5 and will be removed in 1.8. From then on, it will always use 'multinomial'. Leave it to its default value to avoid this warning.\n",
      "  warnings.warn(\n",
      "c:\\Users\\smahri\\OneDrive\\OneDrive\\master\\projet\\Nouveau dossier\\.venv\\Lib\\site-packages\\sklearn\\linear_model\\_logistic.py:1296: FutureWarning: Using the 'liblinear' solver for multiclass classification is deprecated. An error will be raised in 1.8. Either use another solver which supports the multinomial loss or wrap the estimator in a OneVsRestClassifier to keep applying a one-versus-rest scheme.\n",
      "  warnings.warn(\n",
      "c:\\Users\\smahri\\OneDrive\\OneDrive\\master\\projet\\Nouveau dossier\\.venv\\Lib\\site-packages\\sklearn\\linear_model\\_logistic.py:1272: FutureWarning: 'multi_class' was deprecated in version 1.5 and will be removed in 1.8. From then on, it will always use 'multinomial'. Leave it to its default value to avoid this warning.\n",
      "  warnings.warn(\n",
      "c:\\Users\\smahri\\OneDrive\\OneDrive\\master\\projet\\Nouveau dossier\\.venv\\Lib\\site-packages\\sklearn\\linear_model\\_logistic.py:1296: FutureWarning: Using the 'liblinear' solver for multiclass classification is deprecated. An error will be raised in 1.8. Either use another solver which supports the multinomial loss or wrap the estimator in a OneVsRestClassifier to keep applying a one-versus-rest scheme.\n",
      "  warnings.warn(\n",
      "c:\\Users\\smahri\\OneDrive\\OneDrive\\master\\projet\\Nouveau dossier\\.venv\\Lib\\site-packages\\sklearn\\linear_model\\_logistic.py:1272: FutureWarning: 'multi_class' was deprecated in version 1.5 and will be removed in 1.8. From then on, it will always use 'multinomial'. Leave it to its default value to avoid this warning.\n",
      "  warnings.warn(\n",
      "c:\\Users\\smahri\\OneDrive\\OneDrive\\master\\projet\\Nouveau dossier\\.venv\\Lib\\site-packages\\sklearn\\linear_model\\_logistic.py:1296: FutureWarning: Using the 'liblinear' solver for multiclass classification is deprecated. An error will be raised in 1.8. Either use another solver which supports the multinomial loss or wrap the estimator in a OneVsRestClassifier to keep applying a one-versus-rest scheme.\n",
      "  warnings.warn(\n",
      "c:\\Users\\smahri\\OneDrive\\OneDrive\\master\\projet\\Nouveau dossier\\.venv\\Lib\\site-packages\\sklearn\\linear_model\\_logistic.py:1272: FutureWarning: 'multi_class' was deprecated in version 1.5 and will be removed in 1.8. From then on, it will always use 'multinomial'. Leave it to its default value to avoid this warning.\n",
      "  warnings.warn(\n",
      "c:\\Users\\smahri\\OneDrive\\OneDrive\\master\\projet\\Nouveau dossier\\.venv\\Lib\\site-packages\\sklearn\\linear_model\\_logistic.py:1296: FutureWarning: Using the 'liblinear' solver for multiclass classification is deprecated. An error will be raised in 1.8. Either use another solver which supports the multinomial loss or wrap the estimator in a OneVsRestClassifier to keep applying a one-versus-rest scheme.\n",
      "  warnings.warn(\n"
     ]
    },
    {
     "data": {
      "text/html": [
       "<div>\n",
       "<style scoped>\n",
       "    .dataframe tbody tr th:only-of-type {\n",
       "        vertical-align: middle;\n",
       "    }\n",
       "\n",
       "    .dataframe tbody tr th {\n",
       "        vertical-align: top;\n",
       "    }\n",
       "\n",
       "    .dataframe thead th {\n",
       "        text-align: right;\n",
       "    }\n",
       "</style>\n",
       "<table border=\"1\" class=\"dataframe\">\n",
       "  <thead>\n",
       "    <tr style=\"text-align: right;\">\n",
       "      <th></th>\n",
       "      <th>model</th>\n",
       "      <th>best_score</th>\n",
       "      <th>best_params</th>\n",
       "    </tr>\n",
       "  </thead>\n",
       "  <tbody>\n",
       "    <tr>\n",
       "      <th>0</th>\n",
       "      <td>svm</td>\n",
       "      <td>0.750246</td>\n",
       "      <td>{'svc__C': 1, 'svc__kernel': 'linear'}</td>\n",
       "    </tr>\n",
       "    <tr>\n",
       "      <th>1</th>\n",
       "      <td>random_forest</td>\n",
       "      <td>0.533990</td>\n",
       "      <td>{'randomforestclassifier__n_estimators': 10}</td>\n",
       "    </tr>\n",
       "    <tr>\n",
       "      <th>2</th>\n",
       "      <td>logistic_regression</td>\n",
       "      <td>0.729310</td>\n",
       "      <td>{'logisticregression__C': 1}</td>\n",
       "    </tr>\n",
       "  </tbody>\n",
       "</table>\n",
       "</div>"
      ],
      "text/plain": [
       "                 model  best_score  \\\n",
       "0                  svm    0.750246   \n",
       "1        random_forest    0.533990   \n",
       "2  logistic_regression    0.729310   \n",
       "\n",
       "                                    best_params  \n",
       "0        {'svc__C': 1, 'svc__kernel': 'linear'}  \n",
       "1  {'randomforestclassifier__n_estimators': 10}  \n",
       "2                  {'logisticregression__C': 1}  "
      ]
     },
     "execution_count": 26,
     "metadata": {},
     "output_type": "execute_result"
    }
   ],
   "source": [
    "scores = []\n",
    "best_estimators = {}\n",
    "import pandas as pd\n",
    "for algo, mp in model_params.items():\n",
    "    pipe = make_pipeline(StandardScaler(), mp['model'])\n",
    "    clf =  GridSearchCV(pipe, mp['params'], cv=5, return_train_score=False)\n",
    "    clf.fit(X_train, y_train)\n",
    "    scores.append({\n",
    "        'model': algo,\n",
    "        'best_score': clf.best_score_,\n",
    "        'best_params': clf.best_params_\n",
    "    })\n",
    "    best_estimators[algo] = clf.best_estimator_\n",
    "    \n",
    "df = pd.DataFrame(scores,columns=['model','best_score','best_params'])\n",
    "df"
   ]
  },
  {
   "cell_type": "code",
   "execution_count": 27,
   "id": "bfb735cf",
   "metadata": {},
   "outputs": [
    {
     "data": {
      "text/plain": [
       "{'svm': Pipeline(steps=[('standardscaler', StandardScaler()),\n",
       "                 ('svc',\n",
       "                  SVC(C=1, gamma='auto', kernel='linear', probability=True))]),\n",
       " 'random_forest': Pipeline(steps=[('standardscaler', StandardScaler()),\n",
       "                 ('randomforestclassifier',\n",
       "                  RandomForestClassifier(n_estimators=10))]),\n",
       " 'logistic_regression': Pipeline(steps=[('standardscaler', StandardScaler()),\n",
       "                 ('logisticregression',\n",
       "                  LogisticRegression(C=1, multi_class='auto',\n",
       "                                     solver='liblinear'))])}"
      ]
     },
     "execution_count": 27,
     "metadata": {},
     "output_type": "execute_result"
    }
   ],
   "source": [
    "best_estimators"
   ]
  },
  {
   "cell_type": "code",
   "execution_count": 28,
   "id": "7be81e86",
   "metadata": {},
   "outputs": [
    {
     "data": {
      "text/plain": [
       "0.7551020408163265"
      ]
     },
     "execution_count": 28,
     "metadata": {},
     "output_type": "execute_result"
    }
   ],
   "source": [
    "best_estimators['svm'].score(X_test,y_test)\n"
   ]
  },
  {
   "cell_type": "code",
   "execution_count": 29,
   "id": "a257ed0b",
   "metadata": {},
   "outputs": [
    {
     "data": {
      "text/plain": [
       "0.5510204081632653"
      ]
     },
     "execution_count": 29,
     "metadata": {},
     "output_type": "execute_result"
    }
   ],
   "source": [
    "best_estimators['random_forest'].score(X_test,y_test)\n"
   ]
  },
  {
   "cell_type": "code",
   "execution_count": 30,
   "id": "ac522385",
   "metadata": {},
   "outputs": [
    {
     "data": {
      "text/plain": [
       "0.7755102040816326"
      ]
     },
     "execution_count": 30,
     "metadata": {},
     "output_type": "execute_result"
    }
   ],
   "source": [
    "best_estimators['logistic_regression'].score(X_test,y_test)"
   ]
  },
  {
   "cell_type": "code",
   "execution_count": 31,
   "id": "e236ea19",
   "metadata": {},
   "outputs": [],
   "source": [
    "best_clf = best_estimators['svm']\n"
   ]
  },
  {
   "cell_type": "code",
   "execution_count": 32,
   "id": "c84b0c4e",
   "metadata": {},
   "outputs": [
    {
     "data": {
      "text/plain": [
       "['saved_model.pkl']"
      ]
     },
     "execution_count": 32,
     "metadata": {},
     "output_type": "execute_result"
    }
   ],
   "source": [
    "import joblib \n",
    "# Save the model as a pickle in a file \n",
    "joblib.dump(best_clf, 'saved_model.pkl') "
   ]
  },
  {
   "cell_type": "code",
   "execution_count": 33,
   "id": "1168c8c8",
   "metadata": {},
   "outputs": [],
   "source": [
    "import json\n",
    "with open(\"class_dictionary.json\",\"w\") as f:\n",
    "    f.write(json.dumps(class_dict))"
   ]
  },
  {
   "cell_type": "code",
   "execution_count": null,
   "id": "0ddece2e",
   "metadata": {},
   "outputs": [],
   "source": []
  }
 ],
 "metadata": {
  "kernelspec": {
   "display_name": ".venv",
   "language": "python",
   "name": "python3"
  },
  "language_info": {
   "codemirror_mode": {
    "name": "ipython",
    "version": 3
   },
   "file_extension": ".py",
   "mimetype": "text/x-python",
   "name": "python",
   "nbconvert_exporter": "python",
   "pygments_lexer": "ipython3",
   "version": "3.13.3"
  }
 },
 "nbformat": 4,
 "nbformat_minor": 5
}
